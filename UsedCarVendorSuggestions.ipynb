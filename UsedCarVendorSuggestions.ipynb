{
 "cells": [
  {
   "cell_type": "markdown",
   "metadata": {},
   "source": [
    "# What drives the price of a car?\n",
    "\n",
    "![](images/kurt.jpeg)"
   ]
  },
  {
   "cell_type": "markdown",
   "metadata": {},
   "source": [
    "**OVERVIEW**\n",
    "\n",
    "In this application, you will explore a dataset from kaggle. The original dataset contained information on 3 million used cars. The provided dataset contains information on 426K cars to ensure speed of processing.  Your goal is to understand what factors make a car more or less expensive.  As a result of your analysis, you should provide clear recommendations to your client -- a used car dealership -- as to what consumers value in a used car."
   ]
  },
  {
   "cell_type": "markdown",
   "metadata": {},
   "source": [
    "### CRISP-DM Framework\n",
    "\n",
    "<center>\n",
    "    <img src = images/crisp.png width = 50%/>\n",
    "</center>\n",
    "\n",
    "\n",
    "To frame the task, throughout our practical applications we will refer back to a standard process in industry for data projects called CRISP-DM.  This process provides a framework for working through a data problem.  Your first step in this application will be to read through a brief overview of CRISP-DM [here](https://mo-pcco.s3.us-east-1.amazonaws.com/BH-PCMLAI/module_11/readings_starter.zip).  After reading the overview, answer the questions below."
   ]
  },
  {
   "cell_type": "markdown",
   "metadata": {},
   "source": [
    "### Business Understanding\n",
    "\n",
    "From a business perspective, we are tasked with identifying key drivers for used car prices.  In the CRISP-DM overview, we are asked to convert this business framing to a data problem definition.  Using a few sentences, reframe the task as a data task with the appropriate technical vocabulary. "
   ]
  },
  {
   "cell_type": "markdown",
   "metadata": {},
   "source": [
    "1) Which categorical customer variables correlate most strongly with propensity to spend at the dealership? (Helps to identify WHO to sell to) Note: We don't have data on the buyers here so this question doesn't apply in this analysis."
   ]
  },
  {
   "cell_type": "markdown",
   "metadata": {},
   "source": [
    "2) How do categorical data like manufacturer compare to continuous data like mileage in price prediction?\n",
    "3) Can the categorical data be used to cluster the sales? (Maybe we see \"luxury\" cars, or SUVs as classes of sales from the data for example...)."
   ]
  },
  {
   "cell_type": "markdown",
   "metadata": {},
   "source": [
    "4) What are the distributions of sale prices? (May help to frame WHAT to sell, \"beaters\" as opposed to \"gently-used\" newer cars)"
   ]
  },
  {
   "cell_type": "markdown",
   "metadata": {},
   "source": [
    "One may ask WHERE cars are sold but I actually don't believe that's too relevant. It seems unlikely that a used car dealer\n",
    "would have any real flexibility on location so although it may be an analytically interesting variable it is likely of very\n",
    "little value to any particular dealership."
   ]
  },
  {
   "cell_type": "markdown",
   "metadata": {},
   "source": [
    "### Data Understanding\n",
    "\n",
    "After considering the business understanding, we want to get familiar with our data.  Write down some steps that you would take to get to know the dataset and identify any quality issues within.  Take time to get to know the dataset and explore what information it contains and how this could be used to inform your business understanding."
   ]
  },
  {
   "cell_type": "code",
   "execution_count": 417,
   "metadata": {},
   "outputs": [],
   "source": [
    "import pandas as pd\n",
    "import numpy as np\n",
    "import matplotlib.pyplot as plt\n",
    "import seaborn as sns\n",
    "import plotly.express as px\n",
    "\n",
    "from sklearn.feature_selection import SequentialFeatureSelector, RFE\n",
    "from sklearn.linear_model import LinearRegression, Lasso, Ridge\n",
    "from sklearn.preprocessing import StandardScaler, PolynomialFeatures\n",
    "from sklearn.pipeline import Pipeline\n",
    "from sklearn.feature_selection import SequentialFeatureSelector, SelectFromModel\n",
    "from sklearn.metrics import mean_squared_error\n",
    "from sklearn.model_selection import train_test_split, GridSearchCV\n",
    "from sklearn import set_config"
   ]
  },
  {
   "cell_type": "code",
   "execution_count": 418,
   "metadata": {},
   "outputs": [],
   "source": [
    "df = pd.read_csv('./data/vehicles.csv')"
   ]
  },
  {
   "cell_type": "code",
   "execution_count": 419,
   "metadata": {},
   "outputs": [
    {
     "data": {
      "text/html": [
       "<div>\n",
       "<style scoped>\n",
       "    .dataframe tbody tr th:only-of-type {\n",
       "        vertical-align: middle;\n",
       "    }\n",
       "\n",
       "    .dataframe tbody tr th {\n",
       "        vertical-align: top;\n",
       "    }\n",
       "\n",
       "    .dataframe thead th {\n",
       "        text-align: right;\n",
       "    }\n",
       "</style>\n",
       "<table border=\"1\" class=\"dataframe\">\n",
       "  <thead>\n",
       "    <tr style=\"text-align: right;\">\n",
       "      <th></th>\n",
       "      <th>id</th>\n",
       "      <th>region</th>\n",
       "      <th>price</th>\n",
       "      <th>year</th>\n",
       "      <th>manufacturer</th>\n",
       "      <th>model</th>\n",
       "      <th>condition</th>\n",
       "      <th>cylinders</th>\n",
       "      <th>fuel</th>\n",
       "      <th>odometer</th>\n",
       "      <th>title_status</th>\n",
       "      <th>transmission</th>\n",
       "      <th>VIN</th>\n",
       "      <th>drive</th>\n",
       "      <th>size</th>\n",
       "      <th>type</th>\n",
       "      <th>paint_color</th>\n",
       "      <th>state</th>\n",
       "    </tr>\n",
       "  </thead>\n",
       "  <tbody>\n",
       "    <tr>\n",
       "      <td>0</td>\n",
       "      <td>7222695916</td>\n",
       "      <td>prescott</td>\n",
       "      <td>6000</td>\n",
       "      <td>NaN</td>\n",
       "      <td>NaN</td>\n",
       "      <td>NaN</td>\n",
       "      <td>NaN</td>\n",
       "      <td>NaN</td>\n",
       "      <td>NaN</td>\n",
       "      <td>NaN</td>\n",
       "      <td>NaN</td>\n",
       "      <td>NaN</td>\n",
       "      <td>NaN</td>\n",
       "      <td>NaN</td>\n",
       "      <td>NaN</td>\n",
       "      <td>NaN</td>\n",
       "      <td>NaN</td>\n",
       "      <td>az</td>\n",
       "    </tr>\n",
       "    <tr>\n",
       "      <td>1</td>\n",
       "      <td>7218891961</td>\n",
       "      <td>fayetteville</td>\n",
       "      <td>11900</td>\n",
       "      <td>NaN</td>\n",
       "      <td>NaN</td>\n",
       "      <td>NaN</td>\n",
       "      <td>NaN</td>\n",
       "      <td>NaN</td>\n",
       "      <td>NaN</td>\n",
       "      <td>NaN</td>\n",
       "      <td>NaN</td>\n",
       "      <td>NaN</td>\n",
       "      <td>NaN</td>\n",
       "      <td>NaN</td>\n",
       "      <td>NaN</td>\n",
       "      <td>NaN</td>\n",
       "      <td>NaN</td>\n",
       "      <td>ar</td>\n",
       "    </tr>\n",
       "    <tr>\n",
       "      <td>2</td>\n",
       "      <td>7221797935</td>\n",
       "      <td>florida keys</td>\n",
       "      <td>21000</td>\n",
       "      <td>NaN</td>\n",
       "      <td>NaN</td>\n",
       "      <td>NaN</td>\n",
       "      <td>NaN</td>\n",
       "      <td>NaN</td>\n",
       "      <td>NaN</td>\n",
       "      <td>NaN</td>\n",
       "      <td>NaN</td>\n",
       "      <td>NaN</td>\n",
       "      <td>NaN</td>\n",
       "      <td>NaN</td>\n",
       "      <td>NaN</td>\n",
       "      <td>NaN</td>\n",
       "      <td>NaN</td>\n",
       "      <td>fl</td>\n",
       "    </tr>\n",
       "    <tr>\n",
       "      <td>3</td>\n",
       "      <td>7222270760</td>\n",
       "      <td>worcester / central MA</td>\n",
       "      <td>1500</td>\n",
       "      <td>NaN</td>\n",
       "      <td>NaN</td>\n",
       "      <td>NaN</td>\n",
       "      <td>NaN</td>\n",
       "      <td>NaN</td>\n",
       "      <td>NaN</td>\n",
       "      <td>NaN</td>\n",
       "      <td>NaN</td>\n",
       "      <td>NaN</td>\n",
       "      <td>NaN</td>\n",
       "      <td>NaN</td>\n",
       "      <td>NaN</td>\n",
       "      <td>NaN</td>\n",
       "      <td>NaN</td>\n",
       "      <td>ma</td>\n",
       "    </tr>\n",
       "    <tr>\n",
       "      <td>4</td>\n",
       "      <td>7210384030</td>\n",
       "      <td>greensboro</td>\n",
       "      <td>4900</td>\n",
       "      <td>NaN</td>\n",
       "      <td>NaN</td>\n",
       "      <td>NaN</td>\n",
       "      <td>NaN</td>\n",
       "      <td>NaN</td>\n",
       "      <td>NaN</td>\n",
       "      <td>NaN</td>\n",
       "      <td>NaN</td>\n",
       "      <td>NaN</td>\n",
       "      <td>NaN</td>\n",
       "      <td>NaN</td>\n",
       "      <td>NaN</td>\n",
       "      <td>NaN</td>\n",
       "      <td>NaN</td>\n",
       "      <td>nc</td>\n",
       "    </tr>\n",
       "  </tbody>\n",
       "</table>\n",
       "</div>"
      ],
      "text/plain": [
       "           id                  region  price  year manufacturer model  \\\n",
       "0  7222695916                prescott   6000   NaN          NaN   NaN   \n",
       "1  7218891961            fayetteville  11900   NaN          NaN   NaN   \n",
       "2  7221797935            florida keys  21000   NaN          NaN   NaN   \n",
       "3  7222270760  worcester / central MA   1500   NaN          NaN   NaN   \n",
       "4  7210384030              greensboro   4900   NaN          NaN   NaN   \n",
       "\n",
       "  condition cylinders fuel  odometer title_status transmission  VIN drive  \\\n",
       "0       NaN       NaN  NaN       NaN          NaN          NaN  NaN   NaN   \n",
       "1       NaN       NaN  NaN       NaN          NaN          NaN  NaN   NaN   \n",
       "2       NaN       NaN  NaN       NaN          NaN          NaN  NaN   NaN   \n",
       "3       NaN       NaN  NaN       NaN          NaN          NaN  NaN   NaN   \n",
       "4       NaN       NaN  NaN       NaN          NaN          NaN  NaN   NaN   \n",
       "\n",
       "  size type paint_color state  \n",
       "0  NaN  NaN         NaN    az  \n",
       "1  NaN  NaN         NaN    ar  \n",
       "2  NaN  NaN         NaN    fl  \n",
       "3  NaN  NaN         NaN    ma  \n",
       "4  NaN  NaN         NaN    nc  "
      ]
     },
     "execution_count": 419,
     "metadata": {},
     "output_type": "execute_result"
    }
   ],
   "source": [
    "df.head()"
   ]
  },
  {
   "cell_type": "code",
   "execution_count": 420,
   "metadata": {},
   "outputs": [
    {
     "name": "stdout",
     "output_type": "stream",
     "text": [
      "<class 'pandas.core.frame.DataFrame'>\n",
      "RangeIndex: 426880 entries, 0 to 426879\n",
      "Data columns (total 18 columns):\n",
      "id              426880 non-null int64\n",
      "region          426880 non-null object\n",
      "price           426880 non-null int64\n",
      "year            425675 non-null float64\n",
      "manufacturer    409234 non-null object\n",
      "model           421603 non-null object\n",
      "condition       252776 non-null object\n",
      "cylinders       249202 non-null object\n",
      "fuel            423867 non-null object\n",
      "odometer        422480 non-null float64\n",
      "title_status    418638 non-null object\n",
      "transmission    424324 non-null object\n",
      "VIN             265838 non-null object\n",
      "drive           296313 non-null object\n",
      "size            120519 non-null object\n",
      "type            334022 non-null object\n",
      "paint_color     296677 non-null object\n",
      "state           426880 non-null object\n",
      "dtypes: float64(2), int64(2), object(14)\n",
      "memory usage: 58.6+ MB\n"
     ]
    }
   ],
   "source": [
    "df.info()"
   ]
  },
  {
   "cell_type": "code",
   "execution_count": 421,
   "metadata": {},
   "outputs": [
    {
     "data": {
      "image/png": "[encoded data removed]",
      "text/plain": [
       "<Figure size 432x288 with 1 Axes>"
      ]
     },
     "metadata": {
      "needs_background": "light"
     },
     "output_type": "display_data"
    }
   ],
   "source": [
    "plt.figure()\n",
    "plt.hist(df['price'], bins=np.linspace(0, 3e4, 61))\n",
    "plt.xlabel('Price [$]')\n",
    "plt.ylabel('Units Sold')\n",
    "plt.grid()\n",
    "plt.text(2e4, 3.7e4, 'Bin Width=$%i'%500)\n",
    "plt.savefig('images/Price_Distribution.png', dpi=150)"
   ]
  },
  {
   "cell_type": "markdown",
   "metadata": {},
   "source": [
    "##### The comb-tooth nature of the data is something I presumed initially to be doing bad binnings of the data, but I believe now the data are real¶\n",
    "##### This is likely due to the tendency of the sales to be XXX9.99.\n",
    "##### In the data below bin-widths are 500 dollars so the sales are happening just shy of an integer multiple of 1000 dollars"
   ]
  },
  {
   "cell_type": "code",
   "execution_count": 422,
   "metadata": {},
   "outputs": [
    {
     "data": {
      "image/png": "[encoded data removed]",
      "text/plain": [
       "<Figure size 432x288 with 1 Axes>"
      ]
     },
     "metadata": {
      "needs_background": "light"
     },
     "output_type": "display_data"
    }
   ],
   "source": [
    "plt.figure()\n",
    "plt.hist(df['price'], bins=np.linspace(0, 6e4, 121))\n",
    "plt.xlabel('Price [$]')\n",
    "plt.ylabel('Units Sold')\n",
    "plt.grid()\n",
    "plt.text(4e4, 3.7e4, 'Bin Width=$%i'%500)\n",
    "plt.savefig('images/Price_Distribution2.png', dpi=150)"
   ]
  },
  {
   "cell_type": "code",
   "execution_count": 423,
   "metadata": {},
   "outputs": [
    {
     "data": {
      "image/png": "[encoded data removed]",
      "text/plain": [
       "<Figure size 432x288 with 1 Axes>"
      ]
     },
     "metadata": {
      "needs_background": "light"
     },
     "output_type": "display_data"
    }
   ],
   "source": [
    "plt.figure()\n",
    "plt.hist(df['price'], bins=np.linspace(0, 6e4, 61))\n",
    "plt.xlabel('Price [$]')\n",
    "plt.ylabel('Units Sold')\n",
    "plt.grid()\n",
    "plt.text(4e4, 3.7e4, 'Bin Width=$%i'%1000)\n",
    "plt.savefig('images/Price_Distribution3.png', dpi=150)"
   ]
  },
  {
   "cell_type": "code",
   "execution_count": 424,
   "metadata": {},
   "outputs": [
    {
     "data": {
      "image/png": "[encoded data removed]",
      "text/plain": [
       "<Figure size 432x288 with 1 Axes>"
      ]
     },
     "metadata": {
      "needs_background": "light"
     },
     "output_type": "display_data"
    }
   ],
   "source": [
    "plt.figure()\n",
    "plt.hist(df['odometer'], bins=np.linspace(0, 3.0e5, 101))\n",
    "plt.xlabel('Odometer Reading [miles]')\n",
    "plt.ylabel('Units Sold')\n",
    "plt.grid()\n",
    "plt.text(2e5, 1.3e4, 'Bin Width=%i miles'%3000)\n",
    "plt.savefig('images/Odometer_Distribution.png', dpi=150)"
   ]
  },
  {
   "cell_type": "code",
   "execution_count": 425,
   "metadata": {},
   "outputs": [],
   "source": [
    "# Note, a sort of tri-modality in odometer readings:\n",
    "# 1) Never really driven, 0-3000 miles extremely narrow distribution\n",
    "# 2) ~21k - 33k, lightly driven, slightly wider distribution \n",
    "# 3) 50k ->, driven for a long time, this distribution is very wide and centered around ~100k"
   ]
  },
  {
   "cell_type": "code",
   "execution_count": 426,
   "metadata": {},
   "outputs": [
    {
     "data": {
      "image/png": "[encoded data removed]",
      "text/plain": [
       "<Figure size 432x288 with 1 Axes>"
      ]
     },
     "metadata": {
      "needs_background": "light"
     },
     "output_type": "display_data"
    }
   ],
   "source": [
    "plt.figure()\n",
    "plt.hist(df['year'], bins=np.linspace(1990, 2022, 33))\n",
    "plt.xlabel('Year')\n",
    "plt.ylabel('Units Sold')\n",
    "plt.grid()\n",
    "#plt.text(2e5, 1.3e4, 'Bin Width=%i miles'%3000)\n",
    "plt.savefig('images/Year_Distribution.png', dpi=150)"
   ]
  },
  {
   "cell_type": "markdown",
   "metadata": {},
   "source": [
    "### Data Preparation\n",
    "\n",
    "After our initial exploration and fine tuning of the business understanding, it is time to construct our final dataset prior to modeling.  Here, we want to make sure to handle any integrity issues and cleaning, the engineering of new features, any transformations that we believe should happen (scaling, logarithms, normalization, etc.), and general preparation for modeling with `sklearn`. "
   ]
  },
  {
   "cell_type": "code",
   "execution_count": 427,
   "metadata": {},
   "outputs": [
    {
     "name": "stdout",
     "output_type": "stream",
     "text": [
      "118247\n",
      "1FMJU1JT1HEA52352    261\n",
      "3C6JR6DT3KG560649    235\n",
      "1FTER1EH1LLA36301    231\n",
      "5TFTX4CN3EX042751    227\n",
      "1GCHTCE37G1186784    214\n",
      "                    ... \n",
      "ML32A3HJXHH020468      1\n",
      "3GNAL2EK5DS608409      1\n",
      "2FMPK4J92HBC53520      1\n",
      "1C6RR7TM0GS140107      1\n",
      "4T1BF1FKXCU597981      1\n",
      "Name: VIN, Length: 118246, dtype: int64\n"
     ]
    },
    {
     "data": {
      "text/plain": [
       "Text(0.5, 0, 'images/Number of Sales of Unique VIN')"
      ]
     },
     "execution_count": 427,
     "metadata": {},
     "output_type": "execute_result"
    },
    {
     "data": {
      "image/png": "[encoded data removed]",
      "text/plain": [
       "<Figure size 432x288 with 1 Axes>"
      ]
     },
     "metadata": {
      "needs_background": "light"
     },
     "output_type": "display_data"
    }
   ],
   "source": [
    "df.head()\n",
    "print(len(df['VIN'].unique()))\n",
    "print(df['VIN'].value_counts())\n",
    "df['VIN'].value_counts().plot(kind='hist', bins=np.linspace(0, 261, 262))\n",
    "plt.xlabel('images/Number of Sales of Unique VIN')"
   ]
  },
  {
   "cell_type": "code",
   "execution_count": 428,
   "metadata": {},
   "outputs": [
    {
     "data": {
      "image/png": "[encoded data removed]",
      "text/plain": [
       "<Figure size 432x288 with 1 Axes>"
      ]
     },
     "metadata": {
      "needs_background": "light"
     },
     "output_type": "display_data"
    }
   ],
   "source": [
    "df['VIN'].value_counts().plot(kind='hist', bins=np.linspace(0, 261, 262))\n",
    "plt.xlabel('Number of Sales of Unique VIN')\n",
    "plt.ylim(0, 100)\n",
    "plt.grid()\n",
    "plt.savefig('images/Unique-VIN_Sales_Distribution2.png', dpi=150)"
   ]
  },
  {
   "cell_type": "code",
   "execution_count": 429,
   "metadata": {},
   "outputs": [
    {
     "name": "stdout",
     "output_type": "stream",
     "text": [
      "                 id    price    year  odometer\n",
      "count  2.610000e+02    261.0   261.0     261.0\n",
      "mean   7.311842e+09  29590.0  2017.0   70760.0\n",
      "std    5.670758e+04      0.0     0.0       0.0\n",
      "min    7.311767e+09  29590.0  2017.0   70760.0\n",
      "25%    7.311795e+09  29590.0  2017.0   70760.0\n",
      "50%    7.311833e+09  29590.0  2017.0   70760.0\n",
      "75%    7.311878e+09  29590.0  2017.0   70760.0\n",
      "max    7.312005e+09  29590.0  2017.0   70760.0\n"
     ]
    }
   ],
   "source": [
    "print(df[df['VIN']=='1FMJU1JT1HEA52352'].describe())"
   ]
  },
  {
   "cell_type": "code",
   "execution_count": 430,
   "metadata": {},
   "outputs": [
    {
     "name": "stdout",
     "output_type": "stream",
     "text": [
      "                 id    price    year  odometer\n",
      "count  2.350000e+02    235.0   235.0     235.0\n",
      "mean   7.312880e+09  25990.0  2019.0   12302.0\n",
      "std    7.602829e+05      0.0     0.0       0.0\n",
      "min    7.311768e+09  25990.0  2019.0   12302.0\n",
      "25%    7.311878e+09  25990.0  2019.0   12302.0\n",
      "50%    7.313309e+09  25990.0  2019.0   12302.0\n",
      "75%    7.313356e+09  25990.0  2019.0   12302.0\n",
      "max    7.314829e+09  25990.0  2019.0   12302.0\n"
     ]
    }
   ],
   "source": [
    "print(df[df['VIN']=='3C6JR6DT3KG560649'].describe())"
   ]
  },
  {
   "cell_type": "code",
   "execution_count": 431,
   "metadata": {},
   "outputs": [
    {
     "name": "stdout",
     "output_type": "stream",
     "text": [
      "count    118246.000000\n",
      "mean          2.248178\n",
      "std           4.993355\n",
      "min           1.000000\n",
      "25%           1.000000\n",
      "50%           1.000000\n",
      "75%           2.000000\n",
      "max         261.000000\n",
      "Name: VIN, dtype: float64\n"
     ]
    }
   ],
   "source": [
    "print(df['VIN'].value_counts().describe())"
   ]
  },
  {
   "cell_type": "markdown",
   "metadata": {},
   "source": [
    "##### Because most of the vehicle data are 1-time sales, but there is the possibility of a legitimate second or nth sale, I will drop duplicate entries of VIN, odometer reading, and price"
   ]
  },
  {
   "cell_type": "code",
   "execution_count": 432,
   "metadata": {},
   "outputs": [
    {
     "data": {
      "text/plain": [
       "2D4GV77387S671809    10\n",
       "1.07044E+13           9\n",
       "0                     8\n",
       "3C4PDCAB9HT529613     6\n",
       "WVWBA71F38V029590     5\n",
       "                     ..\n",
       "KNDCB3LC3M5464911     1\n",
       "2C3CDXHG5EH254595     1\n",
       "1C4BJWFG8EL274646     1\n",
       "WDBFA61E3LF005956     1\n",
       "4T1BF1FKXCU597981     1\n",
       "Name: VIN, Length: 118246, dtype: int64"
      ]
     },
     "execution_count": 432,
     "metadata": {},
     "output_type": "execute_result"
    }
   ],
   "source": [
    "df = df.drop_duplicates(['VIN', 'odometer', 'price'])\n",
    "df['VIN'].value_counts()"
   ]
  },
  {
   "cell_type": "code",
   "execution_count": 433,
   "metadata": {},
   "outputs": [
    {
     "name": "stdout",
     "output_type": "stream",
     "text": [
      "                 id        price         year      odometer\n",
      "count  1.000000e+01    10.000000    10.000000      10.00000\n",
      "mean   7.314893e+09   988.500000  2014.800000   63619.00000\n",
      "std    1.784623e+06   218.263984     1.316561   18757.88787\n",
      "min    7.311256e+09   700.000000  2013.000000   42322.00000\n",
      "25%    7.313997e+09   773.750000  2014.000000   50507.25000\n",
      "50%    7.315355e+09   995.000000  2015.000000   59663.00000\n",
      "75%    7.316154e+09  1200.000000  2016.000000   77573.25000\n",
      "max    7.316669e+09  1200.000000  2016.000000  100011.00000\n"
     ]
    },
    {
     "data": {
      "text/plain": [
       "Text(0.5, 0, 'Odometer')"
      ]
     },
     "execution_count": 433,
     "metadata": {},
     "output_type": "execute_result"
    },
    {
     "data": {
      "image/png": "[encoded data removed]",
      "text/plain": [
       "<Figure size 432x288 with 1 Axes>"
      ]
     },
     "metadata": {
      "needs_background": "light"
     },
     "output_type": "display_data"
    }
   ],
   "source": [
    "print(df[df['VIN']=='2D4GV77387S671809'].describe())\n",
    "plt.plot(df[df['VIN']=='2D4GV77387S671809']['odometer'], df[df['VIN']=='2D4GV77387S671809']['price'], 'o')\n",
    "plt.ylabel('Price')\n",
    "plt.xlabel('Odometer')"
   ]
  },
  {
   "cell_type": "markdown",
   "metadata": {},
   "source": [
    "##### The data on multiple sales seem unreliable so I am going to just drop any duplicate sales"
   ]
  },
  {
   "cell_type": "code",
   "execution_count": 434,
   "metadata": {},
   "outputs": [
    {
     "name": "stdout",
     "output_type": "stream",
     "text": [
      "                 id         price           year      odometer\n",
      "count  2.117710e+05  2.117710e+05  211090.000000  2.097480e+05\n",
      "mean   7.312192e+09  1.170476e+05    2010.245938  1.078669e+05\n",
      "std    4.360829e+06  1.599815e+07      10.088223  2.326420e+05\n",
      "min    7.207408e+09  0.000000e+00    1900.000000  0.000000e+00\n",
      "25%    7.309471e+09  5.450000e+03    2007.000000  4.772000e+04\n",
      "50%    7.313674e+09  1.140000e+04    2013.000000  9.457700e+04\n",
      "75%    7.315625e+09  2.099900e+04    2016.000000  1.401542e+05\n",
      "max    7.317101e+09  3.736929e+09    2022.000000  1.000000e+07\n",
      "                 id         price           year      odometer\n",
      "count  1.182470e+05  1.182470e+05  117653.000000  1.166710e+05\n",
      "mean   7.312179e+09  1.782777e+04    2012.661037  9.013283e+04\n",
      "std    4.239264e+06  3.599125e+05       6.808482  9.664870e+04\n",
      "min    7.222696e+09  0.000000e+00    1900.000000  0.000000e+00\n",
      "25%    7.309408e+09  6.000000e+03    2010.000000  4.022550e+04\n",
      "50%    7.313622e+09  1.322200e+04    2014.000000  8.441400e+04\n",
      "75%    7.315626e+09  2.398800e+04    2017.000000  1.266595e+05\n",
      "max    7.317099e+09  1.234568e+08    2022.000000  1.000000e+07\n"
     ]
    }
   ],
   "source": [
    "# As mentioned earlier I don't believe that regional data will be relevant to a given dealer (I'll maintain state academically)\n",
    "# VIN has too many unique entries to be of real predictive value, though curiously some cars were sold over 100 times\n",
    "print(df.describe())\n",
    "df_ = df.drop_duplicates(['VIN'])\n",
    "print(df_.describe())\n",
    "#df = df.drop(['region', 'VIN'])"
   ]
  },
  {
   "cell_type": "markdown",
   "metadata": {},
   "source": [
    "##### I am now content that the data are sufficiently clean, and we have a sense of the important distributions, now I'll prepare it for modelling"
   ]
  },
  {
   "cell_type": "code",
   "execution_count": 435,
   "metadata": {},
   "outputs": [
    {
     "name": "stdout",
     "output_type": "stream",
     "text": [
      "<class 'pandas.core.frame.DataFrame'>\n",
      "Int64Index: 118247 entries, 0 to 426833\n",
      "Data columns (total 18 columns):\n",
      "id              118247 non-null int64\n",
      "region          118247 non-null object\n",
      "price           118247 non-null int64\n",
      "year            117653 non-null float64\n",
      "manufacturer    115179 non-null object\n",
      "model           117542 non-null object\n",
      "condition       61082 non-null object\n",
      "cylinders       70266 non-null object\n",
      "fuel            116608 non-null object\n",
      "odometer        116671 non-null float64\n",
      "title_status    114608 non-null object\n",
      "transmission    117010 non-null object\n",
      "VIN             118246 non-null object\n",
      "drive           90898 non-null object\n",
      "size            30310 non-null object\n",
      "type            102062 non-null object\n",
      "paint_color     87564 non-null object\n",
      "state           118247 non-null object\n",
      "dtypes: float64(2), int64(2), object(14)\n",
      "memory usage: 17.1+ MB\n"
     ]
    }
   ],
   "source": [
    "df_.info()"
   ]
  },
  {
   "cell_type": "code",
   "execution_count": 436,
   "metadata": {},
   "outputs": [
    {
     "name": "stdout",
     "output_type": "stream",
     "text": [
      "<class 'pandas.core.frame.DataFrame'>\n",
      "Int64Index: 118247 entries, 0 to 426833\n",
      "Data columns (total 12 columns):\n",
      "price           118247 non-null int64\n",
      "year            117653 non-null float64\n",
      "manufacturer    115179 non-null object\n",
      "model           117542 non-null object\n",
      "condition       61082 non-null object\n",
      "cylinders       70266 non-null object\n",
      "fuel            116608 non-null object\n",
      "odometer        116671 non-null float64\n",
      "title_status    114608 non-null object\n",
      "transmission    117010 non-null object\n",
      "drive           90898 non-null object\n",
      "type            102062 non-null object\n",
      "dtypes: float64(2), int64(1), object(9)\n",
      "memory usage: 11.7+ MB\n"
     ]
    }
   ],
   "source": [
    "df_.drop(['id', 'state', 'region', 'VIN', 'size', 'paint_color'], axis=1).info()\n",
    "df__ = df_.drop(['id', 'state', 'region', 'VIN', 'size', 'paint_color'], axis=1)"
   ]
  },
  {
   "cell_type": "code",
   "execution_count": 437,
   "metadata": {},
   "outputs": [
    {
     "data": {
      "text/plain": [
       "array([nan, '8 cylinders', '6 cylinders', '4 cylinders', '5 cylinders',\n",
       "       '10 cylinders', '3 cylinders', '12 cylinders', 'other'],\n",
       "      dtype=object)"
      ]
     },
     "execution_count": 437,
     "metadata": {},
     "output_type": "execute_result"
    }
   ],
   "source": [
    "df__['cylinders'].unique()"
   ]
  },
  {
   "cell_type": "code",
   "execution_count": 438,
   "metadata": {},
   "outputs": [
    {
     "name": "stdout",
     "output_type": "stream",
     "text": [
      "no\n",
      "no\n",
      "42\n",
      "17550\n",
      "7\n",
      "9\n",
      "6\n",
      "no\n",
      "7\n",
      "4\n",
      "4\n",
      "14\n"
     ]
    }
   ],
   "source": [
    "# Check for capacity to one-Hot encode the categorical variables\n",
    "columns = df__.columns\n",
    "i = -1\n",
    "for entry in df__.dtypes:\n",
    "    i += 1\n",
    "    column = columns[i]\n",
    "    if entry == object:\n",
    "        print(len(df__[column].unique()))\n",
    "    else:\n",
    "        print('no')"
   ]
  },
  {
   "cell_type": "markdown",
   "metadata": {},
   "source": [
    "##### In the interest of restricting the number of columns we absolutely must drop the \"model\" category"
   ]
  },
  {
   "cell_type": "code",
   "execution_count": 439,
   "metadata": {},
   "outputs": [
    {
     "name": "stdout",
     "output_type": "stream",
     "text": [
      "<class 'pandas.core.frame.DataFrame'>\n",
      "Int64Index: 34875 entries, 32 to 426833\n",
      "Data columns (total 11 columns):\n",
      "price           34875 non-null int64\n",
      "year            34875 non-null float64\n",
      "manufacturer    34875 non-null object\n",
      "condition       34875 non-null object\n",
      "cylinders       34875 non-null object\n",
      "fuel            34875 non-null object\n",
      "odometer        34875 non-null float64\n",
      "title_status    34875 non-null object\n",
      "transmission    34875 non-null object\n",
      "drive           34875 non-null object\n",
      "type            34875 non-null object\n",
      "dtypes: float64(2), int64(1), object(8)\n",
      "memory usage: 3.2+ MB\n",
      "None\n"
     ]
    }
   ],
   "source": [
    "df___ = df__.drop(['model'], axis=1)\n",
    "print(df___.dropna().info())"
   ]
  },
  {
   "cell_type": "markdown",
   "metadata": {},
   "source": [
    "##### Even with the reduced column numbers, it's too soon to drop NaN values. It looks like we'd do better to drop one or two columns with disproportionate numbers of NaN values (discarding 2/11 columns rather than ~7/10 rows)"
   ]
  },
  {
   "cell_type": "code",
   "execution_count": 440,
   "metadata": {},
   "outputs": [
    {
     "name": "stdout",
     "output_type": "stream",
     "text": [
      "<class 'pandas.core.frame.DataFrame'>\n",
      "Int64Index: 76586 entries, 32 to 426833\n",
      "Data columns (total 9 columns):\n",
      "price           76586 non-null int64\n",
      "year            76586 non-null float64\n",
      "manufacturer    76586 non-null object\n",
      "fuel            76586 non-null object\n",
      "odometer        76586 non-null float64\n",
      "title_status    76586 non-null object\n",
      "transmission    76586 non-null object\n",
      "drive           76586 non-null object\n",
      "type            76586 non-null object\n",
      "dtypes: float64(2), int64(1), object(6)\n",
      "memory usage: 5.8+ MB\n",
      "None\n"
     ]
    }
   ],
   "source": [
    "df____ = df___.drop(['condition', 'cylinders'], axis=1)\n",
    "print(df____.dropna().info())"
   ]
  },
  {
   "cell_type": "markdown",
   "metadata": {},
   "source": [
    "##### About 1/4 of the original dataset is left here but we have 9 columns of complete data so hopefully the smaller dataset is compensated by better quality\n",
    "\n",
    "##### Now I'm going to one-hot encode the categorical data and move to modeling"
   ]
  },
  {
   "cell_type": "code",
   "execution_count": 441,
   "metadata": {},
   "outputs": [],
   "source": [
    "df = df____.dropna().reset_index()\n",
    "\n",
    "# Execute one-Hot encode the categorical variables\n",
    "columns = df.columns\n",
    "i = -1\n",
    "for entry in df.dtypes:\n",
    "    i += 1\n",
    "    column = columns[i]\n",
    "    if entry == object:\n",
    "        one_hot = pd.get_dummies(df[column])\n",
    "        df = pd.concat([df, one_hot], axis=1)\n",
    "        df = df.drop(column,axis = 1)\n",
    "    else:\n",
    "        continue\n",
    "        \n",
    "df = df.drop('index', axis=1)"
   ]
  },
  {
   "cell_type": "code",
   "execution_count": 442,
   "metadata": {
    "scrolled": true
   },
   "outputs": [
    {
     "name": "stdout",
     "output_type": "stream",
     "text": [
      "       SUV  bus  convertible  coupe  hatchback  mini-van  offroad  other  \\\n",
      "0        0    0            0      0          0         0        0      0   \n",
      "1        0    0            0      0          0         0        0      0   \n",
      "2        0    0            0      0          0         0        0      0   \n",
      "3        0    0            0      0          0         0        0      1   \n",
      "4        0    0            0      0          0         0        0      1   \n",
      "...    ...  ...          ...    ...        ...       ...      ...    ...   \n",
      "76581    0    0            0      0          0         0        0      0   \n",
      "76582    0    0            0      0          0         0        0      0   \n",
      "76583    0    0            0      0          0         0        0      0   \n",
      "76584    0    0            0      0          0         0        0      1   \n",
      "76585    0    0            1      0          0         0        0      0   \n",
      "\n",
      "       pickup  sedan  truck  van  wagon  \n",
      "0           1      0      0    0      0  \n",
      "1           1      0      0    0      0  \n",
      "2           1      0      0    0      0  \n",
      "3           0      0      0    0      0  \n",
      "4           0      0      0    0      0  \n",
      "...       ...    ...    ...  ...    ...  \n",
      "76581       0      1      0    0      0  \n",
      "76582       0      1      0    0      0  \n",
      "76583       0      1      0    0      0  \n",
      "76584       0      0      0    0      0  \n",
      "76585       0      0      0    0      0  \n",
      "\n",
      "[76586 rows x 13 columns]\n",
      "       price    year  odometer  acura  alfa-romeo  aston-martin  audi  bmw  \\\n",
      "0      27990  2012.0   68696.0      0           0             0     0    0   \n",
      "1      34590  2016.0   29499.0      0           0             0     0    0   \n",
      "2      29990  2016.0   17302.0      0           0             0     0    0   \n",
      "3      38590  2011.0   30237.0      0           0             0     0    0   \n",
      "4      32990  2017.0   30041.0      0           0             0     0    0   \n",
      "...      ...     ...       ...    ...         ...           ...   ...  ...   \n",
      "76581  34990  2019.0   15113.0      0           0             0     0    1   \n",
      "76582   5200  2005.0  172511.0      0           0             0     0    0   \n",
      "76583   2500  2005.0  185000.0      0           0             0     0    0   \n",
      "76584  17950  2004.0  186000.0      0           0             0     0    0   \n",
      "76585   6800  1997.0   69550.0      0           0             0     0    0   \n",
      "\n",
      "       buick  cadillac  ...  coupe  hatchback  mini-van  offroad  other  \\\n",
      "0          0         0  ...      0          0         0        0      0   \n",
      "1          0         0  ...      0          0         0        0      0   \n",
      "2          0         0  ...      0          0         0        0      0   \n",
      "3          0         0  ...      0          0         0        0      1   \n",
      "4          0         0  ...      0          0         0        0      1   \n",
      "...      ...       ...  ...    ...        ...       ...      ...    ...   \n",
      "76581      0         0  ...      0          0         0        0      0   \n",
      "76582      0         0  ...      0          0         0        0      0   \n",
      "76583      0         0  ...      0          0         0        0      0   \n",
      "76584      0         0  ...      0          0         0        0      1   \n",
      "76585      0         0  ...      0          0         0        0      0   \n",
      "\n",
      "       pickup  sedan  truck  van  wagon  \n",
      "0           1      0      0    0      0  \n",
      "1           1      0      0    0      0  \n",
      "2           1      0      0    0      0  \n",
      "3           0      0      0    0      0  \n",
      "4           0      0      0    0      0  \n",
      "...       ...    ...    ...  ...    ...  \n",
      "76581       0      1      0    0      0  \n",
      "76582       0      1      0    0      0  \n",
      "76583       0      1      0    0      0  \n",
      "76584       0      0      0    0      0  \n",
      "76585       0      0      0    0      0  \n",
      "\n",
      "[76586 rows x 74 columns]\n"
     ]
    }
   ],
   "source": [
    "print(one_hot)\n",
    "print(df)\n",
    "#df.to_excel('C:\\\\Users\\\\geoffrey.sitwell\\\\Downloads\\\\practical_application_II-starter\\\\testing.xlsx')"
   ]
  },
  {
   "cell_type": "code",
   "execution_count": 443,
   "metadata": {},
   "outputs": [
    {
     "name": "stdout",
     "output_type": "stream",
     "text": [
      "no\n",
      "no\n",
      "no\n",
      "74\n"
     ]
    }
   ],
   "source": [
    "# Check the number of expected columns\n",
    "columns = df____.columns\n",
    "i = -1\n",
    "sum_ = 0\n",
    "for entry in df____.dtypes:\n",
    "    i += 1\n",
    "    column = columns[i]\n",
    "    if entry == object:\n",
    "        sum_ += len(df____[column].unique()) - 1\n",
    "        #print(len(df____[column].unique()) - 1)\n",
    "    else:\n",
    "        sum_ += 1\n",
    "        print('no')\n",
    "        \n",
    "print(sum_)"
   ]
  },
  {
   "cell_type": "code",
   "execution_count": 444,
   "metadata": {},
   "outputs": [
    {
     "name": "stdout",
     "output_type": "stream",
     "text": [
      "<class 'pandas.core.frame.DataFrame'>\n",
      "RangeIndex: 76586 entries, 0 to 76585\n",
      "Data columns (total 74 columns):\n",
      "price              76586 non-null int64\n",
      "year               76586 non-null float64\n",
      "odometer           76586 non-null float64\n",
      "acura              76586 non-null uint8\n",
      "alfa-romeo         76586 non-null uint8\n",
      "aston-martin       76586 non-null uint8\n",
      "audi               76586 non-null uint8\n",
      "bmw                76586 non-null uint8\n",
      "buick              76586 non-null uint8\n",
      "cadillac           76586 non-null uint8\n",
      "chevrolet          76586 non-null uint8\n",
      "chrysler           76586 non-null uint8\n",
      "datsun             76586 non-null uint8\n",
      "dodge              76586 non-null uint8\n",
      "ferrari            76586 non-null uint8\n",
      "fiat               76586 non-null uint8\n",
      "ford               76586 non-null uint8\n",
      "gmc                76586 non-null uint8\n",
      "harley-davidson    76586 non-null uint8\n",
      "honda              76586 non-null uint8\n",
      "hyundai            76586 non-null uint8\n",
      "infiniti           76586 non-null uint8\n",
      "jaguar             76586 non-null uint8\n",
      "jeep               76586 non-null uint8\n",
      "kia                76586 non-null uint8\n",
      "land rover         76586 non-null uint8\n",
      "lexus              76586 non-null uint8\n",
      "lincoln            76586 non-null uint8\n",
      "mazda              76586 non-null uint8\n",
      "mercedes-benz      76586 non-null uint8\n",
      "mercury            76586 non-null uint8\n",
      "mini               76586 non-null uint8\n",
      "mitsubishi         76586 non-null uint8\n",
      "nissan             76586 non-null uint8\n",
      "pontiac            76586 non-null uint8\n",
      "porsche            76586 non-null uint8\n",
      "ram                76586 non-null uint8\n",
      "rover              76586 non-null uint8\n",
      "saturn             76586 non-null uint8\n",
      "subaru             76586 non-null uint8\n",
      "tesla              76586 non-null uint8\n",
      "toyota             76586 non-null uint8\n",
      "volkswagen         76586 non-null uint8\n",
      "volvo              76586 non-null uint8\n",
      "diesel             76586 non-null uint8\n",
      "electric           76586 non-null uint8\n",
      "gas                76586 non-null uint8\n",
      "hybrid             76586 non-null uint8\n",
      "other              76586 non-null uint8\n",
      "clean              76586 non-null uint8\n",
      "lien               76586 non-null uint8\n",
      "missing            76586 non-null uint8\n",
      "parts only         76586 non-null uint8\n",
      "rebuilt            76586 non-null uint8\n",
      "salvage            76586 non-null uint8\n",
      "automatic          76586 non-null uint8\n",
      "manual             76586 non-null uint8\n",
      "other              76586 non-null uint8\n",
      "4wd                76586 non-null uint8\n",
      "fwd                76586 non-null uint8\n",
      "rwd                76586 non-null uint8\n",
      "SUV                76586 non-null uint8\n",
      "bus                76586 non-null uint8\n",
      "convertible        76586 non-null uint8\n",
      "coupe              76586 non-null uint8\n",
      "hatchback          76586 non-null uint8\n",
      "mini-van           76586 non-null uint8\n",
      "offroad            76586 non-null uint8\n",
      "other              76586 non-null uint8\n",
      "pickup             76586 non-null uint8\n",
      "sedan              76586 non-null uint8\n",
      "truck              76586 non-null uint8\n",
      "van                76586 non-null uint8\n",
      "wagon              76586 non-null uint8\n",
      "dtypes: float64(2), int64(1), uint8(71)\n",
      "memory usage: 6.9 MB\n",
      "None\n"
     ]
    }
   ],
   "source": [
    "print(df.info())"
   ]
  },
  {
   "cell_type": "markdown",
   "metadata": {},
   "source": [
    "### Modeling\n",
    "\n",
    "With your (almost?) final dataset in hand, it is now time to build some models.  Here, you should build a number of different regression models with the price as the target.  In building your models, you should explore different parameters and be sure to cross-validate your findings."
   ]
  },
  {
   "cell_type": "code",
   "execution_count": 445,
   "metadata": {},
   "outputs": [],
   "source": [
    "df = df.reset_index()\n",
    "df = df.drop(['index'], axis=1)\n",
    "\n",
    "# Separate the dependent/independent variables\n",
    "X = df.drop('price', axis = 1)\n",
    "y = df['price']\n",
    "# Separate the data into train and test data and get the indices\n",
    "X_train, X_test, y_train, y_test = train_test_split(X, y, test_size=0.3)\n",
    "trainIndices = X_train.index\n",
    "testIndices = X_test.index"
   ]
  },
  {
   "cell_type": "code",
   "execution_count": 446,
   "metadata": {},
   "outputs": [
    {
     "data": {
      "text/html": [
       "<div>\n",
       "<style scoped>\n",
       "    .dataframe tbody tr th:only-of-type {\n",
       "        vertical-align: middle;\n",
       "    }\n",
       "\n",
       "    .dataframe tbody tr th {\n",
       "        vertical-align: top;\n",
       "    }\n",
       "\n",
       "    .dataframe thead th {\n",
       "        text-align: right;\n",
       "    }\n",
       "</style>\n",
       "<table border=\"1\" class=\"dataframe\">\n",
       "  <thead>\n",
       "    <tr style=\"text-align: right;\">\n",
       "      <th></th>\n",
       "      <th>year</th>\n",
       "      <th>odometer</th>\n",
       "      <th>acura</th>\n",
       "      <th>alfa-romeo</th>\n",
       "      <th>aston-martin</th>\n",
       "      <th>audi</th>\n",
       "      <th>bmw</th>\n",
       "      <th>buick</th>\n",
       "      <th>cadillac</th>\n",
       "      <th>chevrolet</th>\n",
       "      <th>...</th>\n",
       "      <th>coupe</th>\n",
       "      <th>hatchback</th>\n",
       "      <th>mini-van</th>\n",
       "      <th>offroad</th>\n",
       "      <th>other</th>\n",
       "      <th>pickup</th>\n",
       "      <th>sedan</th>\n",
       "      <th>truck</th>\n",
       "      <th>van</th>\n",
       "      <th>wagon</th>\n",
       "    </tr>\n",
       "  </thead>\n",
       "  <tbody>\n",
       "    <tr>\n",
       "      <td>0</td>\n",
       "      <td>2012.0</td>\n",
       "      <td>68696.0</td>\n",
       "      <td>0</td>\n",
       "      <td>0</td>\n",
       "      <td>0</td>\n",
       "      <td>0</td>\n",
       "      <td>0</td>\n",
       "      <td>0</td>\n",
       "      <td>0</td>\n",
       "      <td>0</td>\n",
       "      <td>...</td>\n",
       "      <td>0</td>\n",
       "      <td>0</td>\n",
       "      <td>0</td>\n",
       "      <td>0</td>\n",
       "      <td>0</td>\n",
       "      <td>1</td>\n",
       "      <td>0</td>\n",
       "      <td>0</td>\n",
       "      <td>0</td>\n",
       "      <td>0</td>\n",
       "    </tr>\n",
       "    <tr>\n",
       "      <td>1</td>\n",
       "      <td>2016.0</td>\n",
       "      <td>29499.0</td>\n",
       "      <td>0</td>\n",
       "      <td>0</td>\n",
       "      <td>0</td>\n",
       "      <td>0</td>\n",
       "      <td>0</td>\n",
       "      <td>0</td>\n",
       "      <td>0</td>\n",
       "      <td>1</td>\n",
       "      <td>...</td>\n",
       "      <td>0</td>\n",
       "      <td>0</td>\n",
       "      <td>0</td>\n",
       "      <td>0</td>\n",
       "      <td>0</td>\n",
       "      <td>1</td>\n",
       "      <td>0</td>\n",
       "      <td>0</td>\n",
       "      <td>0</td>\n",
       "      <td>0</td>\n",
       "    </tr>\n",
       "    <tr>\n",
       "      <td>2</td>\n",
       "      <td>2016.0</td>\n",
       "      <td>17302.0</td>\n",
       "      <td>0</td>\n",
       "      <td>0</td>\n",
       "      <td>0</td>\n",
       "      <td>0</td>\n",
       "      <td>0</td>\n",
       "      <td>0</td>\n",
       "      <td>0</td>\n",
       "      <td>1</td>\n",
       "      <td>...</td>\n",
       "      <td>0</td>\n",
       "      <td>0</td>\n",
       "      <td>0</td>\n",
       "      <td>0</td>\n",
       "      <td>0</td>\n",
       "      <td>1</td>\n",
       "      <td>0</td>\n",
       "      <td>0</td>\n",
       "      <td>0</td>\n",
       "      <td>0</td>\n",
       "    </tr>\n",
       "    <tr>\n",
       "      <td>3</td>\n",
       "      <td>2011.0</td>\n",
       "      <td>30237.0</td>\n",
       "      <td>0</td>\n",
       "      <td>0</td>\n",
       "      <td>0</td>\n",
       "      <td>0</td>\n",
       "      <td>0</td>\n",
       "      <td>0</td>\n",
       "      <td>0</td>\n",
       "      <td>1</td>\n",
       "      <td>...</td>\n",
       "      <td>0</td>\n",
       "      <td>0</td>\n",
       "      <td>0</td>\n",
       "      <td>0</td>\n",
       "      <td>1</td>\n",
       "      <td>0</td>\n",
       "      <td>0</td>\n",
       "      <td>0</td>\n",
       "      <td>0</td>\n",
       "      <td>0</td>\n",
       "    </tr>\n",
       "    <tr>\n",
       "      <td>4</td>\n",
       "      <td>2017.0</td>\n",
       "      <td>30041.0</td>\n",
       "      <td>0</td>\n",
       "      <td>0</td>\n",
       "      <td>0</td>\n",
       "      <td>0</td>\n",
       "      <td>0</td>\n",
       "      <td>0</td>\n",
       "      <td>0</td>\n",
       "      <td>0</td>\n",
       "      <td>...</td>\n",
       "      <td>0</td>\n",
       "      <td>0</td>\n",
       "      <td>0</td>\n",
       "      <td>0</td>\n",
       "      <td>1</td>\n",
       "      <td>0</td>\n",
       "      <td>0</td>\n",
       "      <td>0</td>\n",
       "      <td>0</td>\n",
       "      <td>0</td>\n",
       "    </tr>\n",
       "    <tr>\n",
       "      <td>...</td>\n",
       "      <td>...</td>\n",
       "      <td>...</td>\n",
       "      <td>...</td>\n",
       "      <td>...</td>\n",
       "      <td>...</td>\n",
       "      <td>...</td>\n",
       "      <td>...</td>\n",
       "      <td>...</td>\n",
       "      <td>...</td>\n",
       "      <td>...</td>\n",
       "      <td>...</td>\n",
       "      <td>...</td>\n",
       "      <td>...</td>\n",
       "      <td>...</td>\n",
       "      <td>...</td>\n",
       "      <td>...</td>\n",
       "      <td>...</td>\n",
       "      <td>...</td>\n",
       "      <td>...</td>\n",
       "      <td>...</td>\n",
       "      <td>...</td>\n",
       "    </tr>\n",
       "    <tr>\n",
       "      <td>76581</td>\n",
       "      <td>2019.0</td>\n",
       "      <td>15113.0</td>\n",
       "      <td>0</td>\n",
       "      <td>0</td>\n",
       "      <td>0</td>\n",
       "      <td>0</td>\n",
       "      <td>1</td>\n",
       "      <td>0</td>\n",
       "      <td>0</td>\n",
       "      <td>0</td>\n",
       "      <td>...</td>\n",
       "      <td>0</td>\n",
       "      <td>0</td>\n",
       "      <td>0</td>\n",
       "      <td>0</td>\n",
       "      <td>0</td>\n",
       "      <td>0</td>\n",
       "      <td>1</td>\n",
       "      <td>0</td>\n",
       "      <td>0</td>\n",
       "      <td>0</td>\n",
       "    </tr>\n",
       "    <tr>\n",
       "      <td>76582</td>\n",
       "      <td>2005.0</td>\n",
       "      <td>172511.0</td>\n",
       "      <td>0</td>\n",
       "      <td>0</td>\n",
       "      <td>0</td>\n",
       "      <td>0</td>\n",
       "      <td>0</td>\n",
       "      <td>0</td>\n",
       "      <td>0</td>\n",
       "      <td>0</td>\n",
       "      <td>...</td>\n",
       "      <td>0</td>\n",
       "      <td>0</td>\n",
       "      <td>0</td>\n",
       "      <td>0</td>\n",
       "      <td>0</td>\n",
       "      <td>0</td>\n",
       "      <td>1</td>\n",
       "      <td>0</td>\n",
       "      <td>0</td>\n",
       "      <td>0</td>\n",
       "    </tr>\n",
       "    <tr>\n",
       "      <td>76583</td>\n",
       "      <td>2005.0</td>\n",
       "      <td>185000.0</td>\n",
       "      <td>0</td>\n",
       "      <td>0</td>\n",
       "      <td>0</td>\n",
       "      <td>0</td>\n",
       "      <td>0</td>\n",
       "      <td>0</td>\n",
       "      <td>0</td>\n",
       "      <td>0</td>\n",
       "      <td>...</td>\n",
       "      <td>0</td>\n",
       "      <td>0</td>\n",
       "      <td>0</td>\n",
       "      <td>0</td>\n",
       "      <td>0</td>\n",
       "      <td>0</td>\n",
       "      <td>1</td>\n",
       "      <td>0</td>\n",
       "      <td>0</td>\n",
       "      <td>0</td>\n",
       "    </tr>\n",
       "    <tr>\n",
       "      <td>76584</td>\n",
       "      <td>2004.0</td>\n",
       "      <td>186000.0</td>\n",
       "      <td>0</td>\n",
       "      <td>0</td>\n",
       "      <td>0</td>\n",
       "      <td>0</td>\n",
       "      <td>0</td>\n",
       "      <td>0</td>\n",
       "      <td>0</td>\n",
       "      <td>0</td>\n",
       "      <td>...</td>\n",
       "      <td>0</td>\n",
       "      <td>0</td>\n",
       "      <td>0</td>\n",
       "      <td>0</td>\n",
       "      <td>1</td>\n",
       "      <td>0</td>\n",
       "      <td>0</td>\n",
       "      <td>0</td>\n",
       "      <td>0</td>\n",
       "      <td>0</td>\n",
       "    </tr>\n",
       "    <tr>\n",
       "      <td>76585</td>\n",
       "      <td>1997.0</td>\n",
       "      <td>69550.0</td>\n",
       "      <td>0</td>\n",
       "      <td>0</td>\n",
       "      <td>0</td>\n",
       "      <td>0</td>\n",
       "      <td>0</td>\n",
       "      <td>0</td>\n",
       "      <td>0</td>\n",
       "      <td>0</td>\n",
       "      <td>...</td>\n",
       "      <td>0</td>\n",
       "      <td>0</td>\n",
       "      <td>0</td>\n",
       "      <td>0</td>\n",
       "      <td>0</td>\n",
       "      <td>0</td>\n",
       "      <td>0</td>\n",
       "      <td>0</td>\n",
       "      <td>0</td>\n",
       "      <td>0</td>\n",
       "    </tr>\n",
       "  </tbody>\n",
       "</table>\n",
       "<p>76586 rows × 73 columns</p>\n",
       "</div>"
      ],
      "text/plain": [
       "         year  odometer  acura  alfa-romeo  aston-martin  audi  bmw  buick  \\\n",
       "0      2012.0   68696.0      0           0             0     0    0      0   \n",
       "1      2016.0   29499.0      0           0             0     0    0      0   \n",
       "2      2016.0   17302.0      0           0             0     0    0      0   \n",
       "3      2011.0   30237.0      0           0             0     0    0      0   \n",
       "4      2017.0   30041.0      0           0             0     0    0      0   \n",
       "...       ...       ...    ...         ...           ...   ...  ...    ...   \n",
       "76581  2019.0   15113.0      0           0             0     0    1      0   \n",
       "76582  2005.0  172511.0      0           0             0     0    0      0   \n",
       "76583  2005.0  185000.0      0           0             0     0    0      0   \n",
       "76584  2004.0  186000.0      0           0             0     0    0      0   \n",
       "76585  1997.0   69550.0      0           0             0     0    0      0   \n",
       "\n",
       "       cadillac  chevrolet  ...  coupe  hatchback  mini-van  offroad  other  \\\n",
       "0             0          0  ...      0          0         0        0      0   \n",
       "1             0          1  ...      0          0         0        0      0   \n",
       "2             0          1  ...      0          0         0        0      0   \n",
       "3             0          1  ...      0          0         0        0      1   \n",
       "4             0          0  ...      0          0         0        0      1   \n",
       "...         ...        ...  ...    ...        ...       ...      ...    ...   \n",
       "76581         0          0  ...      0          0         0        0      0   \n",
       "76582         0          0  ...      0          0         0        0      0   \n",
       "76583         0          0  ...      0          0         0        0      0   \n",
       "76584         0          0  ...      0          0         0        0      1   \n",
       "76585         0          0  ...      0          0         0        0      0   \n",
       "\n",
       "       pickup  sedan  truck  van  wagon  \n",
       "0           1      0      0    0      0  \n",
       "1           1      0      0    0      0  \n",
       "2           1      0      0    0      0  \n",
       "3           0      0      0    0      0  \n",
       "4           0      0      0    0      0  \n",
       "...       ...    ...    ...  ...    ...  \n",
       "76581       0      1      0    0      0  \n",
       "76582       0      1      0    0      0  \n",
       "76583       0      1      0    0      0  \n",
       "76584       0      0      0    0      0  \n",
       "76585       0      0      0    0      0  \n",
       "\n",
       "[76586 rows x 73 columns]"
      ]
     },
     "execution_count": 446,
     "metadata": {},
     "output_type": "execute_result"
    }
   ],
   "source": [
    "X"
   ]
  },
  {
   "cell_type": "markdown",
   "metadata": {},
   "source": [
    "#### Scaled Polynomial Ridge Regressor"
   ]
  },
  {
   "cell_type": "code",
   "execution_count": 447,
   "metadata": {},
   "outputs": [
    {
     "name": "stdout",
     "output_type": "stream",
     "text": [
      "1\n",
      "2\n"
     ]
    },
    {
     "data": {
      "text/plain": [
       "[<matplotlib.lines.Line2D at 0x26c2d16f348>]"
      ]
     },
     "execution_count": 447,
     "metadata": {},
     "output_type": "execute_result"
    },
    {
     "data": {
      "image/png": "[encoded data removed]",
      "text/plain": [
       "<Figure size 432x288 with 1 Axes>"
      ]
     },
     "metadata": {
      "needs_background": "light"
     },
     "output_type": "display_data"
    }
   ],
   "source": [
    "# Find the best polynomial degree\n",
    "trainMSEs = []\n",
    "testMSEs = []\n",
    "\n",
    "# Tried 1 - 4 but Memory Error at degree 3\n",
    "for i in range(1,3):\n",
    "    print(i)\n",
    "    scaled_ridge_model = Pipeline([\n",
    "        ('poly_features', PolynomialFeatures(degree = i, include_bias = False)),\n",
    "        ('scale', StandardScaler()),\n",
    "        ('ridge', Ridge())\n",
    "        ])\n",
    "    scaled_ridge_model.fit(X_train, y_train)\n",
    "    \n",
    "    pred_train = scaled_ridge_model.predict(X_train)\n",
    "    pred_test = scaled_ridge_model.predict(X_test)\n",
    "    \n",
    "    train_mse = mean_squared_error(y_train, pred_train)\n",
    "    test_mse = mean_squared_error(y_test, pred_test)\n",
    "    \n",
    "    trainMSEs.append(train_mse)\n",
    "    testMSEs.append(test_mse)\n",
    "    \n",
    "plt.figure()\n",
    "plt.plot(trainMSEs)\n",
    "plt.plot(testMSEs)"
   ]
  },
  {
   "cell_type": "code",
   "execution_count": 448,
   "metadata": {},
   "outputs": [
    {
     "name": "stdout",
     "output_type": "stream",
     "text": [
      "[285241303921.907, 285036242300.3059]\n"
     ]
    }
   ],
   "source": [
    "print(trainMSEs)"
   ]
  },
  {
   "cell_type": "markdown",
   "metadata": {},
   "source": [
    "##### With these models being effectively equivalent I'm going to use the simpler 1-degree model"
   ]
  },
  {
   "cell_type": "code",
   "execution_count": 449,
   "metadata": {},
   "outputs": [],
   "source": [
    "scaled_ridge_model = Pipeline([\n",
    "        ('poly_features', PolynomialFeatures(degree = 1, include_bias = False)),\n",
    "        ('scale', StandardScaler()),\n",
    "        ('ridge', Ridge())\n",
    "        ])"
   ]
  },
  {
   "cell_type": "markdown",
   "metadata": {},
   "source": [
    "##### K-fold cross-validation with k=5"
   ]
  },
  {
   "cell_type": "code",
   "execution_count": 450,
   "metadata": {},
   "outputs": [],
   "source": [
    "search_params = {'ridge__alpha': 10**np.linspace(-5, 5, 101)}\n",
    "\n",
    "grid = GridSearchCV(estimator=scaled_ridge_model,\n",
    "                           param_grid = search_params,\n",
    "                           cv=5)\n",
    "\n",
    "grid.fit(X_train, y_train)\n",
    "best_model = grid.best_estimator_"
   ]
  },
  {
   "cell_type": "code",
   "execution_count": 451,
   "metadata": {},
   "outputs": [
    {
     "data": {
      "text/html": [
       "<div>\n",
       "<style scoped>\n",
       "    .dataframe tbody tr th:only-of-type {\n",
       "        vertical-align: middle;\n",
       "    }\n",
       "\n",
       "    .dataframe tbody tr th {\n",
       "        vertical-align: top;\n",
       "    }\n",
       "\n",
       "    .dataframe thead th {\n",
       "        text-align: right;\n",
       "    }\n",
       "</style>\n",
       "<table border=\"1\" class=\"dataframe\">\n",
       "  <thead>\n",
       "    <tr style=\"text-align: right;\">\n",
       "      <th></th>\n",
       "      <th>Coefficient</th>\n",
       "      <th>Name</th>\n",
       "    </tr>\n",
       "  </thead>\n",
       "  <tbody>\n",
       "    <tr>\n",
       "      <td>1</td>\n",
       "      <td>-1763.297722</td>\n",
       "      <td>odometer</td>\n",
       "    </tr>\n",
       "    <tr>\n",
       "      <td>32</td>\n",
       "      <td>-792.445651</td>\n",
       "      <td>nissan</td>\n",
       "    </tr>\n",
       "    <tr>\n",
       "      <td>18</td>\n",
       "      <td>-744.002109</td>\n",
       "      <td>honda</td>\n",
       "    </tr>\n",
       "    <tr>\n",
       "      <td>60</td>\n",
       "      <td>-732.093869</td>\n",
       "      <td>SUV</td>\n",
       "    </tr>\n",
       "    <tr>\n",
       "      <td>19</td>\n",
       "      <td>-648.335779</td>\n",
       "      <td>hyundai</td>\n",
       "    </tr>\n",
       "    <tr>\n",
       "      <td>...</td>\n",
       "      <td>...</td>\n",
       "      <td>...</td>\n",
       "    </tr>\n",
       "    <tr>\n",
       "      <td>13</td>\n",
       "      <td>681.294706</td>\n",
       "      <td>ferrari</td>\n",
       "    </tr>\n",
       "    <tr>\n",
       "      <td>68</td>\n",
       "      <td>682.672806</td>\n",
       "      <td>pickup</td>\n",
       "    </tr>\n",
       "    <tr>\n",
       "      <td>43</td>\n",
       "      <td>1106.759027</td>\n",
       "      <td>diesel</td>\n",
       "    </tr>\n",
       "    <tr>\n",
       "      <td>0</td>\n",
       "      <td>2251.096200</td>\n",
       "      <td>year</td>\n",
       "    </tr>\n",
       "    <tr>\n",
       "      <td>9</td>\n",
       "      <td>2766.853168</td>\n",
       "      <td>chevrolet</td>\n",
       "    </tr>\n",
       "  </tbody>\n",
       "</table>\n",
       "<p>73 rows × 2 columns</p>\n",
       "</div>"
      ],
      "text/plain": [
       "    Coefficient       Name\n",
       "1  -1763.297722   odometer\n",
       "32  -792.445651     nissan\n",
       "18  -744.002109      honda\n",
       "60  -732.093869        SUV\n",
       "19  -648.335779    hyundai\n",
       "..          ...        ...\n",
       "13   681.294706    ferrari\n",
       "68   682.672806     pickup\n",
       "43  1106.759027     diesel\n",
       "0   2251.096200       year\n",
       "9   2766.853168  chevrolet\n",
       "\n",
       "[73 rows x 2 columns]"
      ]
     },
     "execution_count": 451,
     "metadata": {},
     "output_type": "execute_result"
    }
   ],
   "source": [
    "#print(len(best_model[2].coef_), len(df.columns))\n",
    "#print(df.columns)\n",
    "\n",
    "d = {'Coefficient':best_model[2].coef_, 'Name':X_train.columns}\n",
    "modelDF = pd.DataFrame(d)\n",
    "\n",
    "modelDF.sort_values(by='Coefficient')#.head()"
   ]
  },
  {
   "cell_type": "code",
   "execution_count": 452,
   "metadata": {},
   "outputs": [
    {
     "name": "stdout",
     "output_type": "stream",
     "text": [
      "Test MSE: 183351862.7281831\n",
      "Best Alpha: 63095.73444801943\n"
     ]
    }
   ],
   "source": [
    "train_preds = best_model.predict(X_train)\n",
    "test_preds = best_model.predict(X_test)\n",
    "\n",
    "model_2_train_mse = mean_squared_error(y_train, train_preds)\n",
    "model_2_test_mse = mean_squared_error(y_test, test_preds)\n",
    "\n",
    "model_2_best_alpha = grid.best_params_\n",
    "\n",
    "print(f'Test MSE: {model_2_test_mse}')\n",
    "print(f'Best Alpha: {list(model_2_best_alpha.values())[0]}')"
   ]
  },
  {
   "cell_type": "code",
   "execution_count": 453,
   "metadata": {},
   "outputs": [
    {
     "name": "stdout",
     "output_type": "stream",
     "text": [
      "2.85e+11 1.83e+08\n"
     ]
    }
   ],
   "source": [
    "print('%.2e'%model_2_train_mse, '%.2e'%model_2_test_mse)"
   ]
  },
  {
   "cell_type": "markdown",
   "metadata": {},
   "source": [
    "#### Sequential Feature Selection"
   ]
  },
  {
   "cell_type": "code",
   "execution_count": 454,
   "metadata": {},
   "outputs": [],
   "source": [
    "# SFS Model\n",
    "model_SFS = Pipeline([\n",
    "    ('scale', StandardScaler()),\n",
    "    ('selector', SequentialFeatureSelector(estimator = Lasso(), scoring='neg_mean_squared_error', cv=[[trainIndices, testIndices]], n_features_to_select = 6)),\n",
    "    ('ridge', Ridge())\n",
    "])\n",
    "\n",
    "model_SFS.fit(X, y)\n",
    "    \n",
    "pred_train = model_SFS.predict(X_train)\n",
    "pred_test = model_SFS.predict(X_test)\n",
    "    \n",
    "train_mse = mean_squared_error(y_train, pred_train)\n",
    "test_mse = mean_squared_error(y_test, pred_test)\n",
    "\n",
    "#print(model_SFS[:-1].get_feature_names_out())\n",
    "#print(model_SFS[-1].coef_)"
   ]
  },
  {
   "cell_type": "code",
   "execution_count": 455,
   "metadata": {},
   "outputs": [
    {
     "data": {
      "text/html": [
       "<div>\n",
       "<style scoped>\n",
       "    .dataframe tbody tr th:only-of-type {\n",
       "        vertical-align: middle;\n",
       "    }\n",
       "\n",
       "    .dataframe tbody tr th {\n",
       "        vertical-align: top;\n",
       "    }\n",
       "\n",
       "    .dataframe thead th {\n",
       "        text-align: right;\n",
       "    }\n",
       "</style>\n",
       "<table border=\"1\" class=\"dataframe\">\n",
       "  <thead>\n",
       "    <tr style=\"text-align: right;\">\n",
       "      <th></th>\n",
       "      <th>Coefficient</th>\n",
       "      <th>Name</th>\n",
       "    </tr>\n",
       "  </thead>\n",
       "  <tbody>\n",
       "    <tr>\n",
       "      <td>0</td>\n",
       "      <td>5109.954206</td>\n",
       "      <td>year</td>\n",
       "    </tr>\n",
       "    <tr>\n",
       "      <td>1</td>\n",
       "      <td>2411.259937</td>\n",
       "      <td>diesel</td>\n",
       "    </tr>\n",
       "    <tr>\n",
       "      <td>2</td>\n",
       "      <td>1185.029988</td>\n",
       "      <td>other</td>\n",
       "    </tr>\n",
       "    <tr>\n",
       "      <td>3</td>\n",
       "      <td>-1652.981237</td>\n",
       "      <td>fwd</td>\n",
       "    </tr>\n",
       "    <tr>\n",
       "      <td>4</td>\n",
       "      <td>2144.874372</td>\n",
       "      <td>pickup</td>\n",
       "    </tr>\n",
       "  </tbody>\n",
       "</table>\n",
       "</div>"
      ],
      "text/plain": [
       "   Coefficient    Name\n",
       "0  5109.954206    year\n",
       "1  2411.259937  diesel\n",
       "2  1185.029988   other\n",
       "3 -1652.981237     fwd\n",
       "4  2144.874372  pickup"
      ]
     },
     "execution_count": 455,
     "metadata": {},
     "output_type": "execute_result"
    }
   ],
   "source": [
    "d = {'Coefficient':model_SFS[-1].coef_, 'Name':model_SFS[:-1].get_feature_names_out()}\n",
    "modelDF = pd.DataFrame(d)\n",
    "\n",
    "modelDF.head()\n",
    "\n",
    "#print('%.2e'%train_mse, '%.2e'%test_mse)"
   ]
  },
  {
   "cell_type": "markdown",
   "metadata": {},
   "source": [
    "#### RFE"
   ]
  },
  {
   "cell_type": "code",
   "execution_count": 456,
   "metadata": {},
   "outputs": [],
   "source": [
    "# Scaled Lasso RFE\n",
    "###scaled_lasso_rfe_model = Pipeline([\n",
    "###     ('scale', StandardScaler()),\n",
    "###     ('selector', RFE(estimator = Lasso(), n_features_to_select = 4)),\n",
    "###     ('ridge', Ridge())\n",
    "###     ])\n",
    "\n",
    "###scaled_lasso_rfe_model.fit(X_train, y_train)\n",
    "    \n",
    "###pred_train = scaled_lasso_rfe_model.predict(X_train)\n",
    "###pred_test = scaled_lasso_rfe_model.predict(X_test)\n",
    "    \n",
    "###train_mse = mean_squared_error(y_train, pred_train)\n",
    "###test_mse = mean_squared_error(y_test, pred_test)\n",
    "\n",
    "###print(scaled_lasso_rfe_model[:-1].get_feature_names_out())"
   ]
  },
  {
   "cell_type": "markdown",
   "metadata": {},
   "source": [
    "### Evaluation\n",
    "\n",
    "With some modeling accomplished, we aim to reflect on what we identify as a high quality model and what we are able to learn from this.  We should review our business objective and explore how well we can provide meaningful insight on drivers of used car prices.  Your goal now is to distill your findings and determine whether the earlier phases need revisitation and adjustment or if you have information of value to bring back to your client."
   ]
  },
  {
   "cell_type": "markdown",
   "metadata": {},
   "source": [
    "Although the model test errors are higher than I would like, I think there are still useful conclusionst that can be drawn from the data. In particular we can determine that the greatest predictors of price are whether it's a Chevy, the odometer reading, the year of the car and whether it is a diesel."
   ]
  },
  {
   "cell_type": "markdown",
   "metadata": {},
   "source": [
    "The most powerful predictors of the price are whether the vehicle is a Chevrolet and the odometer reading which functions a proxy for vehicle wear and tear. The influence that the Chevy brand has over the price may be an indication that these vehicle maintain their value particularly well. It may also be an indication that Chevy vehicles are generally more expensive as we can also see that whether the vehicle is a Ferrari strongly indicates the price. Japanese car brands like Honda and Nissan negatively correlate with expense by contrast."
   ]
  },
  {
   "cell_type": "markdown",
   "metadata": {},
   "source": [
    "The other factors driving price are the year and whether the vehicle is a diesel or not. The diesel category may be a spurious correlation as diesel vehicles are more likely to be larger vehicles like semi-trucks which are more-expensive but not necessarily sold at high-volume. The fact that year positively correlates with cost is fun, as it's equivalent to saying younger cars are more expensive which matches intuition."
   ]
  },
  {
   "cell_type": "markdown",
   "metadata": {},
   "source": [
    "### Deployment\n",
    "\n",
    "Now that we've settled on our models and findings, it is time to deliver the information to the client.  You should organize your work as a basic report that details your primary findings.  Keep in mind that your audience is a group of used car dealers interested in fine tuning their inventory."
   ]
  },
  {
   "cell_type": "markdown",
   "metadata": {},
   "source": [
    "#### What make of vehicles should we be selling?\n",
    "\n",
    "Chevrolet makes are likely to sell for higher prices and makes like Hyundai, Honda and Nissan are likely to sell for less. This may be a broader indication that domestic brands sell for more than foreign brands."
   ]
  },
  {
   "cell_type": "markdown",
   "metadata": {},
   "source": [
    "#### What type of vehicles should we sell?\n",
    "\n",
    "Work vehicles like pickup trucks, specifically diesel trucks sell for relatively high prices. More domestic vehicles like SUVs tend not to sell for as much."
   ]
  },
  {
   "cell_type": "markdown",
   "metadata": {},
   "source": [
    "But it is not sufficient to consider how much a vehicle sells for; the volume of sales is also a critical consideration!"
   ]
  },
  {
   "cell_type": "markdown",
   "metadata": {},
   "source": [
    "From the earlier exploration of the data we can see that the volume of sales is greatest for vehicles approximately 3-4 years old (years 2018-2019), and with very low odometer readings. \n",
    "\n",
    "![](images/Year_Distribution.png)\n",
    "\n",
    "![](images/Odometer_Distribution.png)\n",
    "\n",
    "It is unclear whether the data provided cover exclusively used car sales though, so omitting the spike at very low odometer readings it is interesting to note the multi-moded odometer sales.\n",
    "\n",
    "Given the volume of sales at ~25k-30k, and the negative relationship of odometer readings on price it seems this is the ideal zone."
   ]
  },
  {
   "cell_type": "markdown",
   "metadata": {},
   "source": [
    "### Conclusion"
   ]
  },
  {
   "cell_type": "markdown",
   "metadata": {},
   "source": [
    "This investigation makes no consideration of the cost of procuring inventory, but for gross profits dealerships should focus on:\n",
    "\n",
    "#### 1) Domestic Work Vehicles\n",
    "#### 2) Low Odometer Readings \n",
    "#### 3) Few years old\n",
    "\n",
    "These variables taken in conjunction will help to maximize gross profits through by maximizing volume of sales and sale prices."
   ]
  },
  {
   "cell_type": "markdown",
   "metadata": {},
   "source": [
    "### Final Note\n",
    "\n",
    "I would also advise potential clients to maintain the pricing scheme of pricing just below integer multiples of $1000.\n",
    "Although the distribution in sales by price may be a consequence of the volume of vehicles at those prices rather than customers propensity towards those prices, without that data in hand we need to assume the pricing sheme works to increase sales.\n",
    "\n",
    "![](images/Price_Distribution.png)"
   ]
  },
  {
   "cell_type": "code",
   "execution_count": null,
   "metadata": {},
   "outputs": [],
   "source": []
  },
  {
   "cell_type": "code",
   "execution_count": null,
   "metadata": {},
   "outputs": [],
   "source": []
  },
  {
   "cell_type": "code",
   "execution_count": null,
   "metadata": {},
   "outputs": [],
   "source": []
  }
 ],
 "metadata": {
  "kernelspec": {
   "display_name": "Python 3",
   "language": "python",
   "name": "python3"
  },
  "language_info": {
   "codemirror_mode": {
    "name": "ipython",
    "version": 3
   },
   "file_extension": ".py",
   "mimetype": "text/x-python",
   "name": "python",
   "nbconvert_exporter": "python",
   "pygments_lexer": "ipython3",
   "version": "3.7.4"
  },
  "widgets": {
   "application/vnd.jupyter.widget-state+json": {
    "state": {},
    "version_major": 2,
    "version_minor": 0
   }
  }
 },
 "nbformat": 4,
 "nbformat_minor": 4
}
